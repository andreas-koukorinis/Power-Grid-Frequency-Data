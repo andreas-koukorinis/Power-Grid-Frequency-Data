{
 "cells": [
  {
   "cell_type": "code",
   "execution_count": 1,
   "metadata": {
    "ExecuteTime": {
     "end_time": "2019-06-11T19:26:43.442873Z",
     "start_time": "2019-06-11T19:26:42.603386Z"
    }
   },
   "outputs": [],
   "source": [
    "%matplotlib inline\n",
    "import numpy as np\n",
    "import matplotlib.pyplot as plt\n",
    "import pandas as pd"
   ]
  },
  {
   "cell_type": "markdown",
   "metadata": {
    "ExecuteTime": {
     "end_time": "2019-06-06T12:05:39.807941Z",
     "start_time": "2019-06-06T12:05:39.604183Z"
    }
   },
   "source": [
    "# European Data Cleaner"
   ]
  },
  {
   "cell_type": "markdown",
   "metadata": {},
   "source": [
    "## Load Data Sets"
   ]
  },
  {
   "cell_type": "code",
   "execution_count": 16,
   "metadata": {
    "ExecuteTime": {
     "end_time": "2019-06-11T19:35:21.599390Z",
     "start_time": "2019-06-11T19:35:18.530594Z"
    }
   },
   "outputs": [],
   "source": [
    "# Location of the file\n",
    "location = r'/home/leo/Sciebo/Power-Grid Frequency Data/Germany/2016/'\n",
    "# Year\n",
    "year = r'2016'\n",
    "# Month\n",
    "month = r'01'\n",
    "# File name\n",
    "file_name = year + month + r'_Frequenz.csv'\n",
    "df = pd.read_csv(location + file_name, sep=',',header=None)\n",
    "\n",
    "# A readme file is created with each process, to keep track\n",
    "# of the changes applied to the data.\n",
    "readme = 'data/Readme_' + year + '_' + month + '.txt'\n",
    "\n",
    "#opens readme file\n",
    "f = open(readme,'a+')\n",
    "\n",
    "Dates=df[0].values\n",
    "#Times=df[1].values\n",
    "\n",
    "# Here we remove 50 Hz from the frequency, since it is\n",
    "# common to work in a reference frame where the nominal\n",
    "# frequency is 0 Hz (useful to compare US and EU data) \n",
    "data=df[3].values - 50.0  # 60.0 for US and Japan"
   ]
  },
  {
   "cell_type": "markdown",
   "metadata": {},
   "source": [
    "## Checking length of data"
   ]
  },
  {
   "cell_type": "code",
   "execution_count": 17,
   "metadata": {
    "ExecuteTime": {
     "end_time": "2019-06-11T19:35:31.487520Z",
     "start_time": "2019-06-11T19:35:31.473649Z"
    }
   },
   "outputs": [
    {
     "name": "stdout",
     "output_type": "stream",
     "text": [
      "  \n"
     ]
    }
   ],
   "source": [
    "with open(readme,'a+') as f:\n",
    "    print(r'Days recorded are integers?',file=f)\n",
    "    print((data.size/86400).is_integer(), file=f)\n",
    "    if (data.size/86400).is_integer() == False:\n",
    "        print(r' -- Check if it was a month with daylight savings? --', file=f)\n",
    "    print(r'How many days?', file=f)\n",
    "    print((data.size/86400), file=f)\n",
    "    print(r'Starting date is?', file=f)\n",
    "    print(Dates[0], file=f)\n",
    "    print(r'Ending date is?', file=f)\n",
    "    print(Dates[-1], file=f)\n",
    "    print(r'  ')\n",
    "    print(r'List days in the recording', file=f)\n",
    "    print([Dates[::86400][j][-2:] for j in range(Dates[::86400].size)], file=f)"
   ]
  },
  {
   "cell_type": "markdown",
   "metadata": {},
   "source": [
    "### If data extends beyond a month's period"
   ]
  },
  {
   "cell_type": "code",
   "execution_count": 18,
   "metadata": {
    "ExecuteTime": {
     "end_time": "2019-06-11T19:35:32.796898Z",
     "start_time": "2019-06-11T19:35:32.791809Z"
    }
   },
   "outputs": [],
   "source": [
    "# by setting the truncation to remove undesired days. Say  the data includes 12\n",
    "# days of the previous month: set truncation_start = 12\n",
    "truncation_start = 0\n",
    "if truncation_start != 0: df=df[:][86400*truncation_start:]\n",
    "\n",
    "# in case the data extends, for example, 5 days after the end of the month, set\n",
    "# here the truncation to 5 (truncation_end = 5)\n",
    "truncation_end = 0\n",
    "if truncation_end != 0: df=df[:][:-86400*truncation_end]"
   ]
  },
  {
   "cell_type": "markdown",
   "metadata": {},
   "source": [
    "## Clean dead recordings (<48.1 or >51.9 hz)"
   ]
  },
  {
   "cell_type": "code",
   "execution_count": 19,
   "metadata": {
    "ExecuteTime": {
     "end_time": "2019-06-11T19:35:34.976976Z",
     "start_time": "2019-06-11T19:35:34.953003Z"
    }
   },
   "outputs": [],
   "source": [
    "# any recording smaller than 48.1Hz or larger than 51.9Hz\n",
    "# are assigned 50Hz (i.e. 0.0 in our reference)\n",
    "with open(readme,'a+') as f:\n",
    "    print(r'there are ' + str(data[data<-1.9].size) + r' recordings with <48Hz', file=f)\n",
    "    print(r'there are ' + str(data[data>1.9].size) + r' recordings with >52Hz', file=f)\n",
    "data[data<-1.9]=0.\n",
    "data[data>2.]=0."
   ]
  },
  {
   "cell_type": "markdown",
   "metadata": {},
   "source": [
    "## Find plateaus on the data"
   ]
  },
  {
   "cell_type": "code",
   "execution_count": 20,
   "metadata": {
    "ExecuteTime": {
     "end_time": "2019-06-11T19:35:59.275259Z",
     "start_time": "2019-06-11T19:35:36.016738Z"
    }
   },
   "outputs": [],
   "source": [
    "# This part of the code detects any plateaus of a\n",
    "# timespan longer than 20 seconds. I does not alter\n",
    "# the value of the frequency, but it records the \n",
    "# length on the readme file. This is the easiest \n",
    "# way to find out how corrupted/useful the data\n",
    "# is.\n",
    "\n",
    "diff=np.diff(data)\n",
    "loc=np.array([])\n",
    "dead=np.zeros([20])\n",
    "for i in range(3,diff.size):\n",
    "    if np.array_equal(diff[i-10:i+10],dead) == True:\n",
    "        loc = np.append(loc,i)\n",
    "\n",
    "loc_of_trouble = np.nonzero(np.diff(loc)-1)[0]     \n",
    "if loc_of_trouble.size > 0:\n",
    "\n",
    "    num_of_trouble = loc_of_trouble.size + 1\n",
    "    with open(readme,'a+') as f:\n",
    "        print('There are '+str(np.nonzero(np.diff(loc)-1)[0].size + 1) + ' locations with plateaus of 20 seconds or longer', file=f)\n",
    "        for i in range(num_of_trouble-1 ):\n",
    "            print('Plateau [' + str(i+1) + '] totaling '+str(loc_of_trouble[i] + 21) + ' seconds', file=f)\n",
    "        print('Plateau [' + str(num_of_trouble) + '] totaling '+str(loc.size-loc_of_trouble[num_of_trouble-2] + 19) + ' seconds', file=f)    \n",
    "elif loc_of_trouble.size == 0: \n",
    "    with open(readme,'a+') as f:\n",
    "        print('There are no plateaus of 20 seconds or longer', file=f)\n"
   ]
  },
  {
   "cell_type": "markdown",
   "metadata": {},
   "source": [
    "## Clean sudden variations of the frequency"
   ]
  },
  {
   "cell_type": "code",
   "execution_count": 21,
   "metadata": {
    "ExecuteTime": {
     "end_time": "2019-06-11T19:36:03.303886Z",
     "start_time": "2019-06-11T19:35:59.312282Z"
    }
   },
   "outputs": [
    {
     "data": {
      "text/plain": [
       "[<matplotlib.lines.Line2D at 0x7f56993a9860>]"
      ]
     },
     "execution_count": 21,
     "metadata": {},
     "output_type": "execute_result"
    },
    {
     "data": {
      "image/png": "[encoded data removed]",
      "text/plain": [
       "<Figure size 432x288 with 1 Axes>"
      ]
     },
     "metadata": {
      "needs_background": "light"
     },
     "output_type": "display_data"
    }
   ],
   "source": [
    "# This part of the code checks for sudden large-value\n",
    "# fluctuations of the frequency. Any form of peaks and\n",
    "# miss-measurements should show up here. The value of \n",
    "# those recording are set to the value 5 seconds before.\n",
    "# (this is an empirical choise that has worked well so\n",
    "# far). It leaves a report on the readme file as well\n",
    "\n",
    "eliminate=np.argsort(np.diff(data))\n",
    "i=0\n",
    "while np.diff(data)[eliminate[i]] < - 0.0075:\n",
    "    i=i+1\n",
    "\n",
    "lower_lim=i+1\n",
    "with open(readme,'a+') as f:\n",
    "    print('There are '+str(lower_lim)+' low frequency jumps', file=f)\n",
    "\n",
    "\n",
    "i=1\n",
    "while np.diff(data)[eliminate[-i]] > 0.0075:\n",
    "    i=i+1\n",
    "\n",
    "upper_lim=data.size - i -1\n",
    "with open(readme,'a+') as f:\n",
    "    print('There are '+str(data.size-upper_lim)+' high frequency jumps', file=f)\n",
    "\n",
    "data[eliminate[:lower_lim]]=data[eliminate[:lower_lim]-5]\n",
    "data[eliminate[upper_lim:]]=data[eliminate[upper_lim:]-5]\n",
    "\n",
    "# This is the final plot, that simply searches for the \n",
    "# extrema of the results. If the plots shows no sharp \n",
    "# peaks, the data should be clean.\n",
    "\n",
    "plt.plot(data[np.argmax(data)-900:np.argmax(data)+900])\n",
    "plt.plot(data[np.argmin(data)-900:np.argmin(data)+900])"
   ]
  },
  {
   "cell_type": "markdown",
   "metadata": {},
   "source": [
    "## Record data in txt and npz"
   ]
  },
  {
   "cell_type": "code",
   "execution_count": 22,
   "metadata": {
    "ExecuteTime": {
     "end_time": "2019-06-11T19:36:25.740366Z",
     "start_time": "2019-06-11T19:36:03.340329Z"
    }
   },
   "outputs": [],
   "source": [
    "# This records the data in three formats: npz for numpy,\n",
    "# txt, and csv. The CSV files are stored again in the \n",
    "# 50 (60) Hz to match the format by the providers, in case\n",
    "# you would like to share/send the data to someone else\n",
    "\n",
    "np.savez_compressed('data/2016_' + str(month),data=data)\n",
    "np.savetxt('data/2016_' + str(month) + '.txt',data)\n",
    "df[3] = data+50.  # 60. for US and Japan\n",
    "dfs=df[[0,1,3]]\n",
    "dfs.to_csv('data/2016_' + str(month) + '.csv',header=None)"
   ]
  },
  {
   "cell_type": "markdown",
   "metadata": {},
   "source": [
    "# TransNet BW data processor "
   ]
  },
  {
   "cell_type": "markdown",
   "metadata": {},
   "source": [
    "## Actual Generation per Production Type"
   ]
  },
  {
   "cell_type": "code",
   "execution_count": 21,
   "metadata": {
    "ExecuteTime": {
     "end_time": "2019-06-11T16:47:56.781699Z",
     "start_time": "2019-06-11T16:47:56.592363Z"
    }
   },
   "outputs": [],
   "source": [
    "file_name = r'FILE_NAME_AND_LOCATION.csv'\n",
    "\n",
    "# Read file name\n",
    "df=pd.read_csv(file_name, sep=',')"
   ]
  },
  {
   "cell_type": "code",
   "execution_count": 32,
   "metadata": {
    "ExecuteTime": {
     "end_time": "2019-06-11T16:54:19.243197Z",
     "start_time": "2019-06-11T16:54:18.881875Z"
    }
   },
   "outputs": [],
   "source": [
    "# Generates new file with the data compactifying under equivalent categories \n",
    "dfs=pd.DataFrame(columns=['Date', 'Time', 'Fossil', 'Nuclear','Wind' , 'Solar', 'Hydro', 'Biomass', 'Geothermal','Total'])\n",
    "\n",
    "# Record date and times on the new dataframe\n",
    "dfs['Date']=[df[r'MTU'].values[i][:10] for i in range(df['MTU'].values.size)]\n",
    "dfs['Time']=[df[r'MTU'].values[i][11:16] for i in range(df['MTU'].values.size)]\n",
    "\n",
    "# The desired new definition for the new dataframe\n",
    "Fossil = ['Fossil', 3,4,5,6,7]\n",
    "Nuclear = ['Nuclear',16]\n",
    "Wind = ['Wind', 21,22]\n",
    "Solar = ['Solar',19]\n",
    "Hydro = ['Hydro',11,12,13,14]\n",
    "Biomass = ['Biomass',2]\n",
    "Geothermal = ['Geothermal',10]\n",
    "\n",
    "# A possible total power consumption\n",
    "Total = ['Total',2,3,4,5,6,7,10,11,12,13,14,16,17,18,19,20,21,22]\n",
    "\n",
    "# Add the elements you would like to have on your\n",
    "# new database here\n",
    "list_of_elements = [Fossil, Nuclear, Wind, Solar, Hydro, Biomass, Geothermal, Total]\n",
    "\n",
    "# Interates the elements into a new database dfs\n",
    "for i in range(len(list_of_elements)):\n",
    "    dfs[list_of_elements[i][0]] = np.sum(df[df.keys()[list_of_elements[i][1:]]][:].values,axis=1)\n"
   ]
  }
 ],
 "metadata": {
  "kernelspec": {
   "display_name": "Python 3",
   "language": "python",
   "name": "python3"
  },
  "language_info": {
   "codemirror_mode": {
    "name": "ipython",
    "version": 3
   },
   "file_extension": ".py",
   "mimetype": "text/x-python",
   "name": "python",
   "nbconvert_exporter": "python",
   "pygments_lexer": "ipython3",
   "version": "3.6.8"
  },
  "latex_envs": {
   "LaTeX_envs_menu_present": true,
   "autoclose": false,
   "autocomplete": true,
   "bibliofile": "biblio.bib",
   "cite_by": "apalike",
   "current_citInitial": 1,
   "eqLabelWithNumbers": true,
   "eqNumInitial": 1,
   "hotkeys": {
    "equation": "Ctrl-E",
    "itemize": "Ctrl-I"
   },
   "labels_anchors": false,
   "latex_user_defs": false,
   "report_style_numbering": false,
   "user_envs_cfg": false
  },
  "toc": {
   "base_numbering": 1,
   "nav_menu": {},
   "number_sections": true,
   "sideBar": true,
   "skip_h1_title": false,
   "title_cell": "Table of Contents",
   "title_sidebar": "Contents",
   "toc_cell": false,
   "toc_position": {
    "height": "549px",
    "left": "1178px",
    "top": "77px",
    "width": "375px"
   },
   "toc_section_display": true,
   "toc_window_display": false
  },
  "varInspector": {
   "cols": {
    "lenName": 16,
    "lenType": 16,
    "lenVar": 40
   },
   "kernels_config": {
    "python": {
     "delete_cmd_postfix": "",
     "delete_cmd_prefix": "del ",
     "library": "var_list.py",
     "varRefreshCmd": "print(var_dic_list())"
    },
    "r": {
     "delete_cmd_postfix": ") ",
     "delete_cmd_prefix": "rm(",
     "library": "var_list.r",
     "varRefreshCmd": "cat(var_dic_list()) "
    }
   },
   "oldHeight": 343.4,
   "position": {
    "height": "365.067px",
    "left": "899px",
    "right": "23.2333px",
    "top": "174px",
    "width": "677.767px"
   },
   "types_to_exclude": [
    "module",
    "function",
    "builtin_function_or_method",
    "instance",
    "_Feature"
   ],
   "varInspector_section_display": "block",
   "window_display": false
  }
 },
 "nbformat": 4,
 "nbformat_minor": 2
}
